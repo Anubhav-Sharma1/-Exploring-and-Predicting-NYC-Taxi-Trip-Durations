{
 "cells": [
  {
   "cell_type": "code",
   "execution_count": 1,
   "id": "aa5e406f",
   "metadata": {},
   "outputs": [],
   "source": [
    "import pandas as pd\n",
    "import numpy as np\n",
    "import matplotlib.pyplot as plt"
   ]
  },
  {
   "cell_type": "code",
   "execution_count": 2,
   "id": "d01d6ad2",
   "metadata": {},
   "outputs": [
    {
     "data": {
      "text/html": [
       "<div>\n",
       "<style scoped>\n",
       "    .dataframe tbody tr th:only-of-type {\n",
       "        vertical-align: middle;\n",
       "    }\n",
       "\n",
       "    .dataframe tbody tr th {\n",
       "        vertical-align: top;\n",
       "    }\n",
       "\n",
       "    .dataframe thead th {\n",
       "        text-align: right;\n",
       "    }\n",
       "</style>\n",
       "<table border=\"1\" class=\"dataframe\">\n",
       "  <thead>\n",
       "    <tr style=\"text-align: right;\">\n",
       "      <th></th>\n",
       "      <th>id</th>\n",
       "      <th>vendor_id</th>\n",
       "      <th>pickup_datetime</th>\n",
       "      <th>dropoff_datetime</th>\n",
       "      <th>passenger_count</th>\n",
       "      <th>pickup_longitude</th>\n",
       "      <th>pickup_latitude</th>\n",
       "      <th>dropoff_longitude</th>\n",
       "      <th>dropoff_latitude</th>\n",
       "      <th>store_and_fwd_flag</th>\n",
       "      <th>trip_duration</th>\n",
       "    </tr>\n",
       "  </thead>\n",
       "  <tbody>\n",
       "    <tr>\n",
       "      <th>0</th>\n",
       "      <td>id1080784</td>\n",
       "      <td>2</td>\n",
       "      <td>2016-02-29 16:40:21</td>\n",
       "      <td>2016-02-29 16:47:01</td>\n",
       "      <td>1</td>\n",
       "      <td>-73.953918</td>\n",
       "      <td>40.778873</td>\n",
       "      <td>-73.963875</td>\n",
       "      <td>40.771164</td>\n",
       "      <td>N</td>\n",
       "      <td>400</td>\n",
       "    </tr>\n",
       "    <tr>\n",
       "      <th>1</th>\n",
       "      <td>id0889885</td>\n",
       "      <td>1</td>\n",
       "      <td>2016-03-11 23:35:37</td>\n",
       "      <td>2016-03-11 23:53:57</td>\n",
       "      <td>2</td>\n",
       "      <td>-73.988312</td>\n",
       "      <td>40.731743</td>\n",
       "      <td>-73.994751</td>\n",
       "      <td>40.694931</td>\n",
       "      <td>N</td>\n",
       "      <td>1100</td>\n",
       "    </tr>\n",
       "    <tr>\n",
       "      <th>2</th>\n",
       "      <td>id0857912</td>\n",
       "      <td>2</td>\n",
       "      <td>2016-02-21 17:59:33</td>\n",
       "      <td>2016-02-21 18:26:48</td>\n",
       "      <td>2</td>\n",
       "      <td>-73.997314</td>\n",
       "      <td>40.721458</td>\n",
       "      <td>-73.948029</td>\n",
       "      <td>40.774918</td>\n",
       "      <td>N</td>\n",
       "      <td>1635</td>\n",
       "    </tr>\n",
       "    <tr>\n",
       "      <th>3</th>\n",
       "      <td>id3744273</td>\n",
       "      <td>2</td>\n",
       "      <td>2016-01-05 09:44:31</td>\n",
       "      <td>2016-01-05 10:03:32</td>\n",
       "      <td>6</td>\n",
       "      <td>-73.961670</td>\n",
       "      <td>40.759720</td>\n",
       "      <td>-73.956779</td>\n",
       "      <td>40.780628</td>\n",
       "      <td>N</td>\n",
       "      <td>1141</td>\n",
       "    </tr>\n",
       "    <tr>\n",
       "      <th>4</th>\n",
       "      <td>id0232939</td>\n",
       "      <td>1</td>\n",
       "      <td>2016-02-17 06:42:23</td>\n",
       "      <td>2016-02-17 06:56:31</td>\n",
       "      <td>1</td>\n",
       "      <td>-74.017120</td>\n",
       "      <td>40.708469</td>\n",
       "      <td>-73.988182</td>\n",
       "      <td>40.740631</td>\n",
       "      <td>N</td>\n",
       "      <td>848</td>\n",
       "    </tr>\n",
       "  </tbody>\n",
       "</table>\n",
       "</div>"
      ],
      "text/plain": [
       "          id  vendor_id      pickup_datetime     dropoff_datetime  \\\n",
       "0  id1080784          2  2016-02-29 16:40:21  2016-02-29 16:47:01   \n",
       "1  id0889885          1  2016-03-11 23:35:37  2016-03-11 23:53:57   \n",
       "2  id0857912          2  2016-02-21 17:59:33  2016-02-21 18:26:48   \n",
       "3  id3744273          2  2016-01-05 09:44:31  2016-01-05 10:03:32   \n",
       "4  id0232939          1  2016-02-17 06:42:23  2016-02-17 06:56:31   \n",
       "\n",
       "   passenger_count  pickup_longitude  pickup_latitude  dropoff_longitude  \\\n",
       "0                1        -73.953918        40.778873         -73.963875   \n",
       "1                2        -73.988312        40.731743         -73.994751   \n",
       "2                2        -73.997314        40.721458         -73.948029   \n",
       "3                6        -73.961670        40.759720         -73.956779   \n",
       "4                1        -74.017120        40.708469         -73.988182   \n",
       "\n",
       "   dropoff_latitude store_and_fwd_flag  trip_duration  \n",
       "0         40.771164                  N            400  \n",
       "1         40.694931                  N           1100  \n",
       "2         40.774918                  N           1635  \n",
       "3         40.780628                  N           1141  \n",
       "4         40.740631                  N            848  "
      ]
     },
     "execution_count": 2,
     "metadata": {},
     "output_type": "execute_result"
    }
   ],
   "source": [
    "df = pd.read_csv(\"C:/Users/Dell/OneDrive/Desktop/nyc_taxi_trip_duration.csv\")\n",
    "df.head()"
   ]
  },
  {
   "cell_type": "code",
   "execution_count": 3,
   "id": "441acd38",
   "metadata": {},
   "outputs": [],
   "source": [
    "# removing the outlier"
   ]
  },
  {
   "cell_type": "code",
   "execution_count": 4,
   "id": "16996dab",
   "metadata": {},
   "outputs": [
    {
     "data": {
      "text/plain": [
       "1    517415\n",
       "2    105097\n",
       "5     38926\n",
       "3     29692\n",
       "6     24107\n",
       "4     14050\n",
       "0        33\n",
       "7         1\n",
       "9         1\n",
       "Name: passenger_count, dtype: int64"
      ]
     },
     "execution_count": 4,
     "metadata": {},
     "output_type": "execute_result"
    }
   ],
   "source": [
    "df[\"passenger_count\"].value_counts()"
   ]
  },
  {
   "cell_type": "code",
   "execution_count": 5,
   "id": "15f4e2bb",
   "metadata": {},
   "outputs": [],
   "source": [
    "df = df.loc[~(df['passenger_count'] == 0)]\n",
    "df = df.loc[~(df['passenger_count'] == 7)]\n",
    "df = df.loc[~(df['passenger_count'] == 9)]\n"
   ]
  },
  {
   "cell_type": "code",
   "execution_count": 6,
   "id": "0021e67c",
   "metadata": {},
   "outputs": [],
   "source": [
    "df['trip_duration_hour'] = df['trip_duration'].apply(lambda x: x/3600)\n",
    "df.drop(columns=['trip_duration'], inplace=True)"
   ]
  },
  {
   "cell_type": "code",
   "execution_count": 7,
   "id": "44678b93",
   "metadata": {},
   "outputs": [
    {
     "data": {
      "text/plain": [
       "id                     object\n",
       "vendor_id               int64\n",
       "pickup_datetime        object\n",
       "dropoff_datetime       object\n",
       "passenger_count         int64\n",
       "pickup_longitude      float64\n",
       "pickup_latitude       float64\n",
       "dropoff_longitude     float64\n",
       "dropoff_latitude      float64\n",
       "store_and_fwd_flag     object\n",
       "trip_duration_hour    float64\n",
       "dtype: object"
      ]
     },
     "execution_count": 7,
     "metadata": {},
     "output_type": "execute_result"
    }
   ],
   "source": [
    "df.dtypes"
   ]
  },
  {
   "cell_type": "code",
   "execution_count": 8,
   "id": "7bbe1d76",
   "metadata": {},
   "outputs": [],
   "source": [
    "# K - NEAREST NEIGHBOURS MODEL"
   ]
  },
  {
   "cell_type": "code",
   "execution_count": 9,
   "id": "cf2c3edc",
   "metadata": {},
   "outputs": [],
   "source": [
    "custom_df = df.sample(100000)"
   ]
  },
  {
   "cell_type": "code",
   "execution_count": 10,
   "id": "68461e03",
   "metadata": {},
   "outputs": [],
   "source": [
    "sample_df = custom_df "
   ]
  },
  {
   "cell_type": "code",
   "execution_count": 11,
   "id": "3fbfa423",
   "metadata": {},
   "outputs": [],
   "source": [
    "#seperate features and target\n",
    "features = sample_df.drop([\"id\",\"vendor_id\",\"trip_duration_hour\",\"pickup_datetime\",\"dropoff_datetime\",\"store_and_fwd_flag\"],axis = 1)\n",
    "target = sample_df[\"trip_duration_hour\"]"
   ]
  },
  {
   "cell_type": "code",
   "execution_count": 12,
   "id": "f12842af",
   "metadata": {},
   "outputs": [
    {
     "data": {
      "text/plain": [
       "id                     object\n",
       "vendor_id               int64\n",
       "pickup_datetime        object\n",
       "dropoff_datetime       object\n",
       "passenger_count         int64\n",
       "pickup_longitude      float64\n",
       "pickup_latitude       float64\n",
       "dropoff_longitude     float64\n",
       "dropoff_latitude      float64\n",
       "store_and_fwd_flag     object\n",
       "trip_duration_hour    float64\n",
       "dtype: object"
      ]
     },
     "execution_count": 12,
     "metadata": {},
     "output_type": "execute_result"
    }
   ],
   "source": [
    "sample_df.dtypes"
   ]
  },
  {
   "cell_type": "code",
   "execution_count": 13,
   "id": "48bab63d",
   "metadata": {},
   "outputs": [
    {
     "data": {
      "text/plain": [
       "1    71108\n",
       "2    14405\n",
       "5     5259\n",
       "3     4016\n",
       "6     3329\n",
       "4     1883\n",
       "Name: passenger_count, dtype: int64"
      ]
     },
     "execution_count": 13,
     "metadata": {},
     "output_type": "execute_result"
    }
   ],
   "source": [
    "#converting the store and fwd flag to int type\n",
    "sample_df[\"passenger_count\"].value_counts()"
   ]
  },
  {
   "cell_type": "code",
   "execution_count": 14,
   "id": "883f6eee",
   "metadata": {},
   "outputs": [
    {
     "data": {
      "text/html": [
       "<div>\n",
       "<style scoped>\n",
       "    .dataframe tbody tr th:only-of-type {\n",
       "        vertical-align: middle;\n",
       "    }\n",
       "\n",
       "    .dataframe tbody tr th {\n",
       "        vertical-align: top;\n",
       "    }\n",
       "\n",
       "    .dataframe thead th {\n",
       "        text-align: right;\n",
       "    }\n",
       "</style>\n",
       "<table border=\"1\" class=\"dataframe\">\n",
       "  <thead>\n",
       "    <tr style=\"text-align: right;\">\n",
       "      <th></th>\n",
       "      <th>pickup_longitude</th>\n",
       "      <th>pickup_latitude</th>\n",
       "      <th>dropoff_longitude</th>\n",
       "      <th>dropoff_latitude</th>\n",
       "      <th>passenger_count_1</th>\n",
       "      <th>passenger_count_2</th>\n",
       "      <th>passenger_count_3</th>\n",
       "      <th>passenger_count_4</th>\n",
       "      <th>passenger_count_5</th>\n",
       "      <th>passenger_count_6</th>\n",
       "    </tr>\n",
       "  </thead>\n",
       "  <tbody>\n",
       "    <tr>\n",
       "      <th>191457</th>\n",
       "      <td>-74.000938</td>\n",
       "      <td>40.731819</td>\n",
       "      <td>-73.955307</td>\n",
       "      <td>40.782749</td>\n",
       "      <td>0</td>\n",
       "      <td>0</td>\n",
       "      <td>0</td>\n",
       "      <td>0</td>\n",
       "      <td>1</td>\n",
       "      <td>0</td>\n",
       "    </tr>\n",
       "    <tr>\n",
       "      <th>360147</th>\n",
       "      <td>-73.978882</td>\n",
       "      <td>40.772640</td>\n",
       "      <td>-74.004417</td>\n",
       "      <td>40.733490</td>\n",
       "      <td>0</td>\n",
       "      <td>0</td>\n",
       "      <td>0</td>\n",
       "      <td>0</td>\n",
       "      <td>0</td>\n",
       "      <td>1</td>\n",
       "    </tr>\n",
       "    <tr>\n",
       "      <th>54070</th>\n",
       "      <td>-73.949448</td>\n",
       "      <td>40.784821</td>\n",
       "      <td>-74.005051</td>\n",
       "      <td>40.709190</td>\n",
       "      <td>1</td>\n",
       "      <td>0</td>\n",
       "      <td>0</td>\n",
       "      <td>0</td>\n",
       "      <td>0</td>\n",
       "      <td>0</td>\n",
       "    </tr>\n",
       "    <tr>\n",
       "      <th>496795</th>\n",
       "      <td>-73.984779</td>\n",
       "      <td>40.742680</td>\n",
       "      <td>-73.909271</td>\n",
       "      <td>40.770222</td>\n",
       "      <td>0</td>\n",
       "      <td>1</td>\n",
       "      <td>0</td>\n",
       "      <td>0</td>\n",
       "      <td>0</td>\n",
       "      <td>0</td>\n",
       "    </tr>\n",
       "    <tr>\n",
       "      <th>521780</th>\n",
       "      <td>-73.993576</td>\n",
       "      <td>40.741501</td>\n",
       "      <td>-74.001053</td>\n",
       "      <td>40.718555</td>\n",
       "      <td>1</td>\n",
       "      <td>0</td>\n",
       "      <td>0</td>\n",
       "      <td>0</td>\n",
       "      <td>0</td>\n",
       "      <td>0</td>\n",
       "    </tr>\n",
       "  </tbody>\n",
       "</table>\n",
       "</div>"
      ],
      "text/plain": [
       "        pickup_longitude  pickup_latitude  dropoff_longitude  \\\n",
       "191457        -74.000938        40.731819         -73.955307   \n",
       "360147        -73.978882        40.772640         -74.004417   \n",
       "54070         -73.949448        40.784821         -74.005051   \n",
       "496795        -73.984779        40.742680         -73.909271   \n",
       "521780        -73.993576        40.741501         -74.001053   \n",
       "\n",
       "        dropoff_latitude  passenger_count_1  passenger_count_2  \\\n",
       "191457         40.782749                  0                  0   \n",
       "360147         40.733490                  0                  0   \n",
       "54070          40.709190                  1                  0   \n",
       "496795         40.770222                  0                  1   \n",
       "521780         40.718555                  1                  0   \n",
       "\n",
       "        passenger_count_3  passenger_count_4  passenger_count_5  \\\n",
       "191457                  0                  0                  1   \n",
       "360147                  0                  0                  0   \n",
       "54070                   0                  0                  0   \n",
       "496795                  0                  0                  0   \n",
       "521780                  0                  0                  0   \n",
       "\n",
       "        passenger_count_6  \n",
       "191457                  0  \n",
       "360147                  1  \n",
       "54070                   0  \n",
       "496795                  0  \n",
       "521780                  0  "
      ]
     },
     "execution_count": 14,
     "metadata": {},
     "output_type": "execute_result"
    }
   ],
   "source": [
    "df1 = pd.concat([sample_df, pd.get_dummies(sample_df[['passenger_count']].astype('str'))], axis=1)\n",
    "try:\n",
    "    df1.drop(['id','vendor_id','trip_duration_hour','pickup_datetime','dropoff_datetime','store_and_fwd_flag','passenger_count'], axis=1, inplace=True)\n",
    "except KeyError:\n",
    "    pass\n",
    "\n",
    "df1.head()"
   ]
  },
  {
   "cell_type": "code",
   "execution_count": 15,
   "id": "cd2b35c7",
   "metadata": {},
   "outputs": [
    {
     "data": {
      "text/plain": [
       "((100000, 10), (100000,))"
      ]
     },
     "execution_count": 15,
     "metadata": {},
     "output_type": "execute_result"
    }
   ],
   "source": [
    "#seperate features and target\n",
    "x = df1\n",
    "y = sample_df[\"trip_duration_hour\"]\n",
    "x.shape,y.shape"
   ]
  },
  {
   "cell_type": "code",
   "execution_count": 16,
   "id": "5629d427",
   "metadata": {},
   "outputs": [],
   "source": [
    "#scaling the data(using MinMax Scaler)\n",
    "from sklearn.preprocessing import MinMaxScaler\n",
    "scaler = MinMaxScaler()\n",
    "x_scaled = scaler.fit_transform(x)\n"
   ]
  },
  {
   "cell_type": "code",
   "execution_count": 17,
   "id": "be7ba01e",
   "metadata": {},
   "outputs": [
    {
     "data": {
      "text/html": [
       "<div>\n",
       "<style scoped>\n",
       "    .dataframe tbody tr th:only-of-type {\n",
       "        vertical-align: middle;\n",
       "    }\n",
       "\n",
       "    .dataframe tbody tr th {\n",
       "        vertical-align: top;\n",
       "    }\n",
       "\n",
       "    .dataframe thead th {\n",
       "        text-align: right;\n",
       "    }\n",
       "</style>\n",
       "<table border=\"1\" class=\"dataframe\">\n",
       "  <thead>\n",
       "    <tr style=\"text-align: right;\">\n",
       "      <th></th>\n",
       "      <th>pickup_longitude</th>\n",
       "      <th>pickup_latitude</th>\n",
       "      <th>dropoff_longitude</th>\n",
       "      <th>dropoff_latitude</th>\n",
       "      <th>passenger_count_1</th>\n",
       "      <th>passenger_count_2</th>\n",
       "      <th>passenger_count_3</th>\n",
       "      <th>passenger_count_4</th>\n",
       "      <th>passenger_count_5</th>\n",
       "      <th>passenger_count_6</th>\n",
       "    </tr>\n",
       "  </thead>\n",
       "  <tbody>\n",
       "    <tr>\n",
       "      <th>0</th>\n",
       "      <td>0.879505</td>\n",
       "      <td>0.875698</td>\n",
       "      <td>0.832885</td>\n",
       "      <td>0.868056</td>\n",
       "      <td>0.0</td>\n",
       "      <td>0.0</td>\n",
       "      <td>0.0</td>\n",
       "      <td>0.0</td>\n",
       "      <td>1.0</td>\n",
       "      <td>0.0</td>\n",
       "    </tr>\n",
       "    <tr>\n",
       "      <th>1</th>\n",
       "      <td>0.882989</td>\n",
       "      <td>0.881637</td>\n",
       "      <td>0.826494</td>\n",
       "      <td>0.863085</td>\n",
       "      <td>0.0</td>\n",
       "      <td>0.0</td>\n",
       "      <td>0.0</td>\n",
       "      <td>0.0</td>\n",
       "      <td>0.0</td>\n",
       "      <td>1.0</td>\n",
       "    </tr>\n",
       "    <tr>\n",
       "      <th>2</th>\n",
       "      <td>0.887638</td>\n",
       "      <td>0.883409</td>\n",
       "      <td>0.826412</td>\n",
       "      <td>0.860633</td>\n",
       "      <td>1.0</td>\n",
       "      <td>0.0</td>\n",
       "      <td>0.0</td>\n",
       "      <td>0.0</td>\n",
       "      <td>0.0</td>\n",
       "      <td>0.0</td>\n",
       "    </tr>\n",
       "    <tr>\n",
       "      <th>3</th>\n",
       "      <td>0.882058</td>\n",
       "      <td>0.877278</td>\n",
       "      <td>0.838876</td>\n",
       "      <td>0.866792</td>\n",
       "      <td>0.0</td>\n",
       "      <td>1.0</td>\n",
       "      <td>0.0</td>\n",
       "      <td>0.0</td>\n",
       "      <td>0.0</td>\n",
       "      <td>0.0</td>\n",
       "    </tr>\n",
       "    <tr>\n",
       "      <th>4</th>\n",
       "      <td>0.880668</td>\n",
       "      <td>0.877107</td>\n",
       "      <td>0.826932</td>\n",
       "      <td>0.861578</td>\n",
       "      <td>1.0</td>\n",
       "      <td>0.0</td>\n",
       "      <td>0.0</td>\n",
       "      <td>0.0</td>\n",
       "      <td>0.0</td>\n",
       "      <td>0.0</td>\n",
       "    </tr>\n",
       "  </tbody>\n",
       "</table>\n",
       "</div>"
      ],
      "text/plain": [
       "   pickup_longitude  pickup_latitude  dropoff_longitude  dropoff_latitude  \\\n",
       "0          0.879505         0.875698           0.832885          0.868056   \n",
       "1          0.882989         0.881637           0.826494          0.863085   \n",
       "2          0.887638         0.883409           0.826412          0.860633   \n",
       "3          0.882058         0.877278           0.838876          0.866792   \n",
       "4          0.880668         0.877107           0.826932          0.861578   \n",
       "\n",
       "   passenger_count_1  passenger_count_2  passenger_count_3  passenger_count_4  \\\n",
       "0                0.0                0.0                0.0                0.0   \n",
       "1                0.0                0.0                0.0                0.0   \n",
       "2                1.0                0.0                0.0                0.0   \n",
       "3                0.0                1.0                0.0                0.0   \n",
       "4                1.0                0.0                0.0                0.0   \n",
       "\n",
       "   passenger_count_5  passenger_count_6  \n",
       "0                1.0                0.0  \n",
       "1                0.0                1.0  \n",
       "2                0.0                0.0  \n",
       "3                0.0                0.0  \n",
       "4                0.0                0.0  "
      ]
     },
     "execution_count": 17,
     "metadata": {},
     "output_type": "execute_result"
    }
   ],
   "source": [
    "x = pd.DataFrame(x_scaled,columns=x.columns)\n",
    "x.head()"
   ]
  },
  {
   "cell_type": "code",
   "execution_count": 18,
   "id": "42ee52ae",
   "metadata": {},
   "outputs": [],
   "source": [
    "#importing the train_test_split from sklearn\n",
    "from sklearn.model_selection import train_test_split\n",
    "train_x,test_x,train_y,test_y = train_test_split(x,y,random_state=56)"
   ]
  },
  {
   "cell_type": "code",
   "execution_count": 19,
   "id": "2a5f90c7",
   "metadata": {},
   "outputs": [],
   "source": [
    "#importing knn regressor and mse metrics\n",
    "from sklearn.neighbors import KNeighborsRegressor as KNN\n",
    "from sklearn.metrics import mean_squared_error as mse\n",
    "from math import sqrt"
   ]
  },
  {
   "cell_type": "code",
   "execution_count": 20,
   "id": "05735845",
   "metadata": {},
   "outputs": [
    {
     "name": "stdout",
     "output_type": "stream",
     "text": [
      "test rmse  0.9387669444953632\n"
     ]
    }
   ],
   "source": [
    "#creating instance of KNN\n",
    "reg = KNN(n_neighbors = 10)\n",
    "#fitting the model\n",
    "reg.fit(train_x,train_y)\n",
    "#predicting over the train set and calculating F1\n",
    "test_predict = reg.predict(test_x)\n",
    "k= sqrt(mse(test_predict,test_y))\n",
    "print(\"test rmse \", k)"
   ]
  },
  {
   "cell_type": "code",
   "execution_count": 21,
   "id": "f18f77c4",
   "metadata": {},
   "outputs": [],
   "source": [
    "# Finding the value of k using elbow method"
   ]
  },
  {
   "cell_type": "code",
   "execution_count": 22,
   "id": "9ab8c2f1",
   "metadata": {},
   "outputs": [],
   "source": [
    "def elbow(k):\n",
    "    test_rmse=[]\n",
    "    for i in k:\n",
    "        reg = KNN(n_neighbors=i)\n",
    "        reg.fit(train_x,train_y)\n",
    "        tmp = reg.predict(test_x)\n",
    "        tmp = sqrt(mse(tmp,test_y))\n",
    "        test_rmse.append(tmp)\n",
    "        \n",
    "    return test_rmse    "
   ]
  },
  {
   "cell_type": "code",
   "execution_count": 23,
   "id": "ad2694c7",
   "metadata": {},
   "outputs": [],
   "source": [
    "k = range(1,50)"
   ]
  },
  {
   "cell_type": "code",
   "execution_count": 24,
   "id": "60b07dd4",
   "metadata": {},
   "outputs": [],
   "source": [
    "test = elbow(k)"
   ]
  },
  {
   "cell_type": "code",
   "execution_count": 25,
   "id": "984bd160",
   "metadata": {},
   "outputs": [
    {
     "data": {
      "text/plain": [
       "Text(0.5, 1.0, 'elbow curve for test')"
      ]
     },
     "execution_count": 25,
     "metadata": {},
     "output_type": "execute_result"
    },
    {
     "data": {
      "image/png": "[encoded data removed]",
      "text/plain": [
       "<Figure size 640x480 with 1 Axes>"
      ]
     },
     "metadata": {},
     "output_type": "display_data"
    }
   ],
   "source": [
    "#plotting the curves\n",
    "plt.plot(k,test)\n",
    "plt.xlabel(\"k neighbors\")\n",
    "plt.ylabel(\"test mean squared error\")\n",
    "plt.title(\"elbow curve for test\")"
   ]
  },
  {
   "cell_type": "code",
   "execution_count": 34,
   "id": "699822a4",
   "metadata": {},
   "outputs": [
    {
     "name": "stdout",
     "output_type": "stream",
     "text": [
      "test rmse  0.9600036193785295\n"
     ]
    }
   ],
   "source": [
    "#creating instance of KNN\n",
    "reg = KNN(n_neighbors = 5)\n",
    "#fitting the model\n",
    "reg.fit(train_x,train_y)\n",
    "#predicting over the train set and calculating F1\n",
    "test_predict = reg.predict(test_x)\n",
    "k= sqrt(mse(test_predict,test_y))\n",
    "print(\"test rmse \", k)"
   ]
  },
  {
   "cell_type": "code",
   "execution_count": 27,
   "id": "ec306b77",
   "metadata": {},
   "outputs": [],
   "source": [
    "#The best value of k is 10"
   ]
  },
  {
   "cell_type": "code",
   "execution_count": 28,
   "id": "4da68e93",
   "metadata": {},
   "outputs": [
    {
     "data": {
      "text/plain": [
       "23.98916565151411"
      ]
     },
     "execution_count": 28,
     "metadata": {},
     "output_type": "execute_result"
    }
   ],
   "source": [
    "knn_train_score = reg.score(train_x,train_y)\n",
    "knn_train_score*100"
   ]
  },
  {
   "cell_type": "code",
   "execution_count": 29,
   "id": "2aea0339",
   "metadata": {},
   "outputs": [
    {
     "data": {
      "text/plain": [
       "-8.35579351764113"
      ]
     },
     "execution_count": 29,
     "metadata": {},
     "output_type": "execute_result"
    }
   ],
   "source": [
    "knn_test_score = reg.score(test_x,test_y)\n",
    "knn_test_score*100"
   ]
  },
  {
   "cell_type": "code",
   "execution_count": 30,
   "id": "527c5f92",
   "metadata": {},
   "outputs": [
    {
     "name": "stdout",
     "output_type": "stream",
     "text": [
      "Stored 'knn_test_score' (float64)\n"
     ]
    }
   ],
   "source": [
    "#storing the value of train score which can be further used in other files for plotting the bar graph\n",
    "%store knn_test_score"
   ]
  },
  {
   "cell_type": "code",
   "execution_count": 31,
   "id": "f29867c0",
   "metadata": {},
   "outputs": [
    {
     "name": "stdout",
     "output_type": "stream",
     "text": [
      "Stored 'knn_train_score' (float64)\n"
     ]
    }
   ],
   "source": [
    "#storing the value of test score which can be further used in other files for plotting the bar graph\n",
    "%store knn_train_score"
   ]
  },
  {
   "cell_type": "code",
   "execution_count": 35,
   "id": "93474e6f",
   "metadata": {},
   "outputs": [],
   "source": [
    "# Conclusions\n",
    "#1. The Test RMSE is 0.9387669444953632 when we took the value of k as 10\n",
    "\n",
    "#2. We used Elbow method in order to determine the value of k \n",
    "\n",
    "#3. On using Elbow method we found that at k = 10 the test RMSE is lesser than the RMSE at K =5 i.e test rmse   0.9600036193785295 when K = 5\n",
    "\n",
    "#4. The train score is 23.98916565151411\n",
    "#5. The test score is -8.35579351764113 which is not pereferd\n",
    "\n"
   ]
  },
  {
   "cell_type": "code",
   "execution_count": 36,
   "id": "4fc88415",
   "metadata": {},
   "outputs": [],
   "source": [
    "custom_df=sample_df"
   ]
  },
  {
   "cell_type": "code",
   "execution_count": 37,
   "id": "4f9d2e02",
   "metadata": {},
   "outputs": [
    {
     "data": {
      "text/plain": [
       "id                     object\n",
       "vendor_id               int64\n",
       "pickup_datetime        object\n",
       "dropoff_datetime       object\n",
       "passenger_count         int64\n",
       "pickup_longitude      float64\n",
       "pickup_latitude       float64\n",
       "dropoff_longitude     float64\n",
       "dropoff_latitude      float64\n",
       "store_and_fwd_flag     object\n",
       "trip_duration_hour    float64\n",
       "dtype: object"
      ]
     },
     "execution_count": 37,
     "metadata": {},
     "output_type": "execute_result"
    }
   ],
   "source": [
    "sample_df.dtypes"
   ]
  },
  {
   "cell_type": "code",
   "execution_count": 38,
   "id": "0e6490a9",
   "metadata": {},
   "outputs": [],
   "source": [
    "#seperate features and target\n",
    "features = sample_df.drop([\"id\",\"vendor_id\",\"trip_duration_hour\",\"pickup_datetime\",\"dropoff_datetime\"],axis = 1)\n",
    "target = sample_df[\"trip_duration_hour\"]"
   ]
  },
  {
   "cell_type": "code",
   "execution_count": 39,
   "id": "66895f04",
   "metadata": {},
   "outputs": [
    {
     "data": {
      "text/html": [
       "<div>\n",
       "<style scoped>\n",
       "    .dataframe tbody tr th:only-of-type {\n",
       "        vertical-align: middle;\n",
       "    }\n",
       "\n",
       "    .dataframe tbody tr th {\n",
       "        vertical-align: top;\n",
       "    }\n",
       "\n",
       "    .dataframe thead th {\n",
       "        text-align: right;\n",
       "    }\n",
       "</style>\n",
       "<table border=\"1\" class=\"dataframe\">\n",
       "  <thead>\n",
       "    <tr style=\"text-align: right;\">\n",
       "      <th></th>\n",
       "      <th>pickup_longitude</th>\n",
       "      <th>pickup_latitude</th>\n",
       "      <th>dropoff_longitude</th>\n",
       "      <th>dropoff_latitude</th>\n",
       "      <th>passenger_count_1</th>\n",
       "      <th>passenger_count_2</th>\n",
       "      <th>passenger_count_3</th>\n",
       "      <th>passenger_count_4</th>\n",
       "      <th>passenger_count_5</th>\n",
       "      <th>passenger_count_6</th>\n",
       "    </tr>\n",
       "  </thead>\n",
       "  <tbody>\n",
       "    <tr>\n",
       "      <th>191457</th>\n",
       "      <td>-74.000938</td>\n",
       "      <td>40.731819</td>\n",
       "      <td>-73.955307</td>\n",
       "      <td>40.782749</td>\n",
       "      <td>0</td>\n",
       "      <td>0</td>\n",
       "      <td>0</td>\n",
       "      <td>0</td>\n",
       "      <td>1</td>\n",
       "      <td>0</td>\n",
       "    </tr>\n",
       "    <tr>\n",
       "      <th>360147</th>\n",
       "      <td>-73.978882</td>\n",
       "      <td>40.772640</td>\n",
       "      <td>-74.004417</td>\n",
       "      <td>40.733490</td>\n",
       "      <td>0</td>\n",
       "      <td>0</td>\n",
       "      <td>0</td>\n",
       "      <td>0</td>\n",
       "      <td>0</td>\n",
       "      <td>1</td>\n",
       "    </tr>\n",
       "    <tr>\n",
       "      <th>54070</th>\n",
       "      <td>-73.949448</td>\n",
       "      <td>40.784821</td>\n",
       "      <td>-74.005051</td>\n",
       "      <td>40.709190</td>\n",
       "      <td>1</td>\n",
       "      <td>0</td>\n",
       "      <td>0</td>\n",
       "      <td>0</td>\n",
       "      <td>0</td>\n",
       "      <td>0</td>\n",
       "    </tr>\n",
       "    <tr>\n",
       "      <th>496795</th>\n",
       "      <td>-73.984779</td>\n",
       "      <td>40.742680</td>\n",
       "      <td>-73.909271</td>\n",
       "      <td>40.770222</td>\n",
       "      <td>0</td>\n",
       "      <td>1</td>\n",
       "      <td>0</td>\n",
       "      <td>0</td>\n",
       "      <td>0</td>\n",
       "      <td>0</td>\n",
       "    </tr>\n",
       "    <tr>\n",
       "      <th>521780</th>\n",
       "      <td>-73.993576</td>\n",
       "      <td>40.741501</td>\n",
       "      <td>-74.001053</td>\n",
       "      <td>40.718555</td>\n",
       "      <td>1</td>\n",
       "      <td>0</td>\n",
       "      <td>0</td>\n",
       "      <td>0</td>\n",
       "      <td>0</td>\n",
       "      <td>0</td>\n",
       "    </tr>\n",
       "  </tbody>\n",
       "</table>\n",
       "</div>"
      ],
      "text/plain": [
       "        pickup_longitude  pickup_latitude  dropoff_longitude  \\\n",
       "191457        -74.000938        40.731819         -73.955307   \n",
       "360147        -73.978882        40.772640         -74.004417   \n",
       "54070         -73.949448        40.784821         -74.005051   \n",
       "496795        -73.984779        40.742680         -73.909271   \n",
       "521780        -73.993576        40.741501         -74.001053   \n",
       "\n",
       "        dropoff_latitude  passenger_count_1  passenger_count_2  \\\n",
       "191457         40.782749                  0                  0   \n",
       "360147         40.733490                  0                  0   \n",
       "54070          40.709190                  1                  0   \n",
       "496795         40.770222                  0                  1   \n",
       "521780         40.718555                  1                  0   \n",
       "\n",
       "        passenger_count_3  passenger_count_4  passenger_count_5  \\\n",
       "191457                  0                  0                  1   \n",
       "360147                  0                  0                  0   \n",
       "54070                   0                  0                  0   \n",
       "496795                  0                  0                  0   \n",
       "521780                  0                  0                  0   \n",
       "\n",
       "        passenger_count_6  \n",
       "191457                  0  \n",
       "360147                  1  \n",
       "54070                   0  \n",
       "496795                  0  \n",
       "521780                  0  "
      ]
     },
     "execution_count": 39,
     "metadata": {},
     "output_type": "execute_result"
    }
   ],
   "source": [
    "df1 = pd.concat([sample_df, pd.get_dummies(sample_df[['passenger_count']].astype('str'))], axis=1)\n",
    "try:\n",
    "    df1.drop(['id','vendor_id','trip_duration_hour','pickup_datetime','dropoff_datetime','store_and_fwd_flag','passenger_count'], axis=1, inplace=True)\n",
    "except KeyError:\n",
    "    pass\n",
    "\n",
    "df1.head()"
   ]
  },
  {
   "cell_type": "code",
   "execution_count": 40,
   "id": "8eda8cbd",
   "metadata": {},
   "outputs": [
    {
     "data": {
      "text/plain": [
       "(100000, 10)"
      ]
     },
     "execution_count": 40,
     "metadata": {},
     "output_type": "execute_result"
    }
   ],
   "source": [
    "df1.shape"
   ]
  },
  {
   "cell_type": "code",
   "execution_count": 41,
   "id": "6f70e071",
   "metadata": {},
   "outputs": [
    {
     "data": {
      "text/plain": [
       "((100000, 10), (100000,))"
      ]
     },
     "execution_count": 41,
     "metadata": {},
     "output_type": "execute_result"
    }
   ],
   "source": [
    "#seperate features and target\n",
    "x = df1\n",
    "y = sample_df[\"trip_duration_hour\"]\n",
    "x.shape,y.shape"
   ]
  },
  {
   "cell_type": "code",
   "execution_count": 42,
   "id": "e7f9ff40",
   "metadata": {},
   "outputs": [],
   "source": [
    "from sklearn.model_selection import train_test_split\n",
    "train_x,test_x,train_y,test_y = train_test_split(x,y,random_state=56)"
   ]
  },
  {
   "cell_type": "code",
   "execution_count": 43,
   "id": "a98456e6",
   "metadata": {},
   "outputs": [],
   "source": [
    "# Linear Regression model"
   ]
  },
  {
   "cell_type": "code",
   "execution_count": 52,
   "id": "6710e568",
   "metadata": {},
   "outputs": [],
   "source": [
    "from sklearn.linear_model import LinearRegression as LR\n",
    "from sklearn.metrics import mean_squared_error as mse"
   ]
  },
  {
   "cell_type": "code",
   "execution_count": 53,
   "id": "60a74aa7",
   "metadata": {},
   "outputs": [
    {
     "data": {
      "text/plain": [
       "LinearRegression()"
      ]
     },
     "execution_count": 53,
     "metadata": {},
     "output_type": "execute_result"
    }
   ],
   "source": [
    "#creating an instance of LR\n",
    "lr = LR()\n",
    "#fitting the model\n",
    "lr.fit(train_x,train_y)"
   ]
  },
  {
   "cell_type": "code",
   "execution_count": 54,
   "id": "0093cbab",
   "metadata": {},
   "outputs": [
    {
     "name": "stdout",
     "output_type": "stream",
     "text": [
      "training rmse  0.7808824222699722\n"
     ]
    }
   ],
   "source": [
    "#predicting the train values and finding the RMSE\n",
    "train_predict = lr.predict(train_x)\n",
    "k = sqrt(mse(train_predict,train_y))\n",
    "print(\"training rmse \",k)"
   ]
  },
  {
   "cell_type": "code",
   "execution_count": 55,
   "id": "608e2756",
   "metadata": {},
   "outputs": [
    {
     "name": "stdout",
     "output_type": "stream",
     "text": [
      "testing rmse  0.9230511950477114\n"
     ]
    }
   ],
   "source": [
    "#predicting the test values and finding the RMSE\n",
    "test_predict = lr.predict(test_x)\n",
    "k = sqrt(mse(test_predict,test_y))\n",
    "print(\"testing rmse \",k)"
   ]
  },
  {
   "cell_type": "code",
   "execution_count": 56,
   "id": "9a37619d",
   "metadata": {},
   "outputs": [
    {
     "data": {
      "text/plain": [
       "array([ 1.41350094e+00, -6.46827679e-01,  6.54409685e-01, -4.50090127e-01,\n",
       "       -2.99074649e-02,  9.59884251e-04,  3.38263639e-02, -8.11355037e-03,\n",
       "        1.88818433e-02, -1.56470762e-02])"
      ]
     },
     "execution_count": 56,
     "metadata": {},
     "output_type": "execute_result"
    }
   ],
   "source": [
    "#computing the coefficients of above model\n",
    "lr.coef_"
   ]
  },
  {
   "cell_type": "code",
   "execution_count": 57,
   "id": "c3537544",
   "metadata": {},
   "outputs": [],
   "source": [
    "# plotting the coefficients"
   ]
  },
  {
   "cell_type": "code",
   "execution_count": 58,
   "id": "584adfee",
   "metadata": {},
   "outputs": [
    {
     "data": {
      "text/plain": [
       "Text(0.5, 1.0, 'coefficient plot')"
      ]
     },
     "execution_count": 58,
     "metadata": {},
     "output_type": "execute_result"
    },
    {
     "data": {
      "image/png": "[encoded data removed]",
      "text/plain": [
       "<Figure size 960x720 with 1 Axes>"
      ]
     },
     "metadata": {},
     "output_type": "display_data"
    }
   ],
   "source": [
    "plt.figure(figsize=(8,6),dpi=120,facecolor=\"w\",edgecolor=\"b\")\n",
    "x = range(len(train_x.columns))\n",
    "y = lr.coef_\n",
    "plt.bar(x,y)\n",
    "plt.xlabel(\"variables\")\n",
    "plt.ylabel(\"coefficents\")\n",
    "plt.title(\"coefficient plot\")"
   ]
  },
  {
   "cell_type": "code",
   "execution_count": 59,
   "id": "1db23ed0",
   "metadata": {},
   "outputs": [
    {
     "data": {
      "text/html": [
       "<div>\n",
       "<style scoped>\n",
       "    .dataframe tbody tr th:only-of-type {\n",
       "        vertical-align: middle;\n",
       "    }\n",
       "\n",
       "    .dataframe tbody tr th {\n",
       "        vertical-align: top;\n",
       "    }\n",
       "\n",
       "    .dataframe thead th {\n",
       "        text-align: right;\n",
       "    }\n",
       "</style>\n",
       "<table border=\"1\" class=\"dataframe\">\n",
       "  <thead>\n",
       "    <tr style=\"text-align: right;\">\n",
       "      <th></th>\n",
       "      <th>fitted_values</th>\n",
       "      <th>predicted_values</th>\n",
       "      <th>residuals</th>\n",
       "    </tr>\n",
       "  </thead>\n",
       "  <tbody>\n",
       "    <tr>\n",
       "      <th>175159</th>\n",
       "      <td>0.380278</td>\n",
       "      <td>0.235392</td>\n",
       "      <td>0.144886</td>\n",
       "    </tr>\n",
       "    <tr>\n",
       "      <th>229931</th>\n",
       "      <td>0.188333</td>\n",
       "      <td>0.328744</td>\n",
       "      <td>-0.140411</td>\n",
       "    </tr>\n",
       "    <tr>\n",
       "      <th>186470</th>\n",
       "      <td>0.453889</td>\n",
       "      <td>0.228237</td>\n",
       "      <td>0.225652</td>\n",
       "    </tr>\n",
       "    <tr>\n",
       "      <th>396261</th>\n",
       "      <td>0.101389</td>\n",
       "      <td>0.214704</td>\n",
       "      <td>-0.113316</td>\n",
       "    </tr>\n",
       "    <tr>\n",
       "      <th>634962</th>\n",
       "      <td>0.215833</td>\n",
       "      <td>0.251328</td>\n",
       "      <td>-0.035494</td>\n",
       "    </tr>\n",
       "  </tbody>\n",
       "</table>\n",
       "</div>"
      ],
      "text/plain": [
       "        fitted_values  predicted_values  residuals\n",
       "175159       0.380278          0.235392   0.144886\n",
       "229931       0.188333          0.328744  -0.140411\n",
       "186470       0.453889          0.228237   0.225652\n",
       "396261       0.101389          0.214704  -0.113316\n",
       "634962       0.215833          0.251328  -0.035494"
      ]
     },
     "execution_count": 59,
     "metadata": {},
     "output_type": "execute_result"
    }
   ],
   "source": [
    "#calculating the residuals \n",
    "residuals = pd.DataFrame({\n",
    "    \"fitted_values\":test_y,\n",
    "    \"predicted_values\":test_predict\n",
    "})\n",
    "residuals[\"residuals\"]=residuals[\"fitted_values\"]-residuals[\"predicted_values\"]\n",
    "residuals.head()"
   ]
  },
  {
   "cell_type": "code",
   "execution_count": 60,
   "id": "0e1c0ba3",
   "metadata": {},
   "outputs": [
    {
     "data": {
      "image/png": "[encoded data removed]",
      "text/plain": [
       "<Figure size 1500x900 with 1 Axes>"
      ]
     },
     "metadata": {},
     "output_type": "display_data"
    }
   ],
   "source": [
    "plt.figure(figsize=(10,6),dpi=150,facecolor=\"w\",edgecolor=\"b\")\n",
    "plt.hist(residuals.residuals,bins=100)\n",
    "plt.xlabel(\"error\")\n",
    "plt.ylabel(\"frequency\")\n",
    "plt.title(\"distribution of error terms\")\n",
    "plt.show()"
   ]
  },
  {
   "cell_type": "code",
   "execution_count": 61,
   "id": "54104783",
   "metadata": {},
   "outputs": [
    {
     "data": {
      "image/png": "[encoded data removed]",
      "text/plain": [
       "<Figure size 600x600 with 1 Axes>"
      ]
     },
     "metadata": {},
     "output_type": "display_data"
    }
   ],
   "source": [
    "# importing the QQ-plot from the from the statsmodels\n",
    "from statsmodels.graphics.gofplots import qqplot\n",
    "\n",
    "## Plotting the QQ plot\n",
    "fig, ax = plt.subplots(figsize=(5,5) , dpi = 120)\n",
    "qqplot(residuals.residuals, line = 's' , ax = ax)\n",
    "plt.xlabel('Ideal Scaled Quantiles')\n",
    "plt.ylabel('Residual Quantiles')\n",
    "plt.legend([\"Residual Quantiles\",\"Ideal Scaled Quantiles\"])\n",
    "plt.title('Distribution of Residual Errors')\n",
    "plt.show()"
   ]
  },
  {
   "cell_type": "code",
   "execution_count": 62,
   "id": "463c3beb",
   "metadata": {},
   "outputs": [
    {
     "data": {
      "text/plain": [
       "0.974192740138502"
      ]
     },
     "execution_count": 62,
     "metadata": {},
     "output_type": "execute_result"
    }
   ],
   "source": [
    "#calculating the train score \n",
    "\n",
    "linear_train_score = lr.score(train_x,train_y)\n",
    "linear_train_score*100"
   ]
  },
  {
   "cell_type": "code",
   "execution_count": 63,
   "id": "a4a46877",
   "metadata": {},
   "outputs": [
    {
     "data": {
      "text/plain": [
       "-0.17468233800463917"
      ]
     },
     "execution_count": 63,
     "metadata": {},
     "output_type": "execute_result"
    }
   ],
   "source": [
    "#calculating the test score\n",
    "\n",
    "linear_test_score = lr.score(test_x,test_y)\n",
    "linear_test_score*100"
   ]
  },
  {
   "cell_type": "code",
   "execution_count": 64,
   "id": "6e7adfd6",
   "metadata": {},
   "outputs": [
    {
     "name": "stdout",
     "output_type": "stream",
     "text": [
      "Stored 'linear_test_score' (float64)\n"
     ]
    }
   ],
   "source": [
    "#storing the value of test score which can be further used in other files for plotting the bar graph\n",
    "%store linear_test_score"
   ]
  },
  {
   "cell_type": "code",
   "execution_count": 65,
   "id": "3331ba6e",
   "metadata": {},
   "outputs": [
    {
     "name": "stdout",
     "output_type": "stream",
     "text": [
      "Stored 'linear_train_score' (float64)\n"
     ]
    }
   ],
   "source": [
    "#storing the value of train score which can be further used in other files for plotting the bar graph\n",
    "%store linear_train_score"
   ]
  },
  {
   "cell_type": "code",
   "execution_count": 66,
   "id": "76dc286c",
   "metadata": {},
   "outputs": [],
   "source": [
    "# conclusions\n",
    "\n",
    "#1. The training and test RMSE has a huge difference as the training rmse is 0.7808824222699722 and testing rmse is 0.9230511950477114\n",
    "#2. On computing the coefficients we observed that there are some negative values as well\n",
    "#3. On plotting the qqplot we see that the residual quantile line doesn't fit over all ideal scaled quantiles\n",
    "#4. The train score of linear model is very low  0.974192740138502\n",
    "#5. The test score of linear model is  very low -0.17468233800463917"
   ]
  },
  {
   "cell_type": "code",
   "execution_count": 67,
   "id": "2014d998",
   "metadata": {},
   "outputs": [],
   "source": [
    "sample_df=custom_df"
   ]
  },
  {
   "cell_type": "code",
   "execution_count": 68,
   "id": "c9928487",
   "metadata": {},
   "outputs": [
    {
     "data": {
      "text/plain": [
       "(11,)"
      ]
     },
     "execution_count": 68,
     "metadata": {},
     "output_type": "execute_result"
    }
   ],
   "source": [
    "sample_df.dtypes.shape"
   ]
  },
  {
   "cell_type": "code",
   "execution_count": 69,
   "id": "916e91e5",
   "metadata": {},
   "outputs": [
    {
     "data": {
      "text/html": [
       "<div>\n",
       "<style scoped>\n",
       "    .dataframe tbody tr th:only-of-type {\n",
       "        vertical-align: middle;\n",
       "    }\n",
       "\n",
       "    .dataframe tbody tr th {\n",
       "        vertical-align: top;\n",
       "    }\n",
       "\n",
       "    .dataframe thead th {\n",
       "        text-align: right;\n",
       "    }\n",
       "</style>\n",
       "<table border=\"1\" class=\"dataframe\">\n",
       "  <thead>\n",
       "    <tr style=\"text-align: right;\">\n",
       "      <th></th>\n",
       "      <th>pickup_longitude</th>\n",
       "      <th>pickup_latitude</th>\n",
       "      <th>dropoff_longitude</th>\n",
       "      <th>dropoff_latitude</th>\n",
       "      <th>trip_duration_hour</th>\n",
       "      <th>passenger_count_1</th>\n",
       "      <th>passenger_count_2</th>\n",
       "      <th>passenger_count_3</th>\n",
       "      <th>passenger_count_4</th>\n",
       "      <th>passenger_count_5</th>\n",
       "      <th>passenger_count_6</th>\n",
       "    </tr>\n",
       "  </thead>\n",
       "  <tbody>\n",
       "    <tr>\n",
       "      <th>191457</th>\n",
       "      <td>-74.000938</td>\n",
       "      <td>40.731819</td>\n",
       "      <td>-73.955307</td>\n",
       "      <td>40.782749</td>\n",
       "      <td>0.254444</td>\n",
       "      <td>0</td>\n",
       "      <td>0</td>\n",
       "      <td>0</td>\n",
       "      <td>0</td>\n",
       "      <td>1</td>\n",
       "      <td>0</td>\n",
       "    </tr>\n",
       "    <tr>\n",
       "      <th>360147</th>\n",
       "      <td>-73.978882</td>\n",
       "      <td>40.772640</td>\n",
       "      <td>-74.004417</td>\n",
       "      <td>40.733490</td>\n",
       "      <td>0.180278</td>\n",
       "      <td>0</td>\n",
       "      <td>0</td>\n",
       "      <td>0</td>\n",
       "      <td>0</td>\n",
       "      <td>0</td>\n",
       "      <td>1</td>\n",
       "    </tr>\n",
       "    <tr>\n",
       "      <th>54070</th>\n",
       "      <td>-73.949448</td>\n",
       "      <td>40.784821</td>\n",
       "      <td>-74.005051</td>\n",
       "      <td>40.709190</td>\n",
       "      <td>0.330556</td>\n",
       "      <td>1</td>\n",
       "      <td>0</td>\n",
       "      <td>0</td>\n",
       "      <td>0</td>\n",
       "      <td>0</td>\n",
       "      <td>0</td>\n",
       "    </tr>\n",
       "    <tr>\n",
       "      <th>496795</th>\n",
       "      <td>-73.984779</td>\n",
       "      <td>40.742680</td>\n",
       "      <td>-73.909271</td>\n",
       "      <td>40.770222</td>\n",
       "      <td>0.561667</td>\n",
       "      <td>0</td>\n",
       "      <td>1</td>\n",
       "      <td>0</td>\n",
       "      <td>0</td>\n",
       "      <td>0</td>\n",
       "      <td>0</td>\n",
       "    </tr>\n",
       "    <tr>\n",
       "      <th>521780</th>\n",
       "      <td>-73.993576</td>\n",
       "      <td>40.741501</td>\n",
       "      <td>-74.001053</td>\n",
       "      <td>40.718555</td>\n",
       "      <td>0.188056</td>\n",
       "      <td>1</td>\n",
       "      <td>0</td>\n",
       "      <td>0</td>\n",
       "      <td>0</td>\n",
       "      <td>0</td>\n",
       "      <td>0</td>\n",
       "    </tr>\n",
       "  </tbody>\n",
       "</table>\n",
       "</div>"
      ],
      "text/plain": [
       "        pickup_longitude  pickup_latitude  dropoff_longitude  \\\n",
       "191457        -74.000938        40.731819         -73.955307   \n",
       "360147        -73.978882        40.772640         -74.004417   \n",
       "54070         -73.949448        40.784821         -74.005051   \n",
       "496795        -73.984779        40.742680         -73.909271   \n",
       "521780        -73.993576        40.741501         -74.001053   \n",
       "\n",
       "        dropoff_latitude  trip_duration_hour  passenger_count_1  \\\n",
       "191457         40.782749            0.254444                  0   \n",
       "360147         40.733490            0.180278                  0   \n",
       "54070          40.709190            0.330556                  1   \n",
       "496795         40.770222            0.561667                  0   \n",
       "521780         40.718555            0.188056                  1   \n",
       "\n",
       "        passenger_count_2  passenger_count_3  passenger_count_4  \\\n",
       "191457                  0                  0                  0   \n",
       "360147                  0                  0                  0   \n",
       "54070                   0                  0                  0   \n",
       "496795                  1                  0                  0   \n",
       "521780                  0                  0                  0   \n",
       "\n",
       "        passenger_count_5  passenger_count_6  \n",
       "191457                  1                  0  \n",
       "360147                  0                  1  \n",
       "54070                   0                  0  \n",
       "496795                  0                  0  \n",
       "521780                  0                  0  "
      ]
     },
     "execution_count": 69,
     "metadata": {},
     "output_type": "execute_result"
    }
   ],
   "source": [
    "df1 = pd.concat([sample_df, pd.get_dummies(sample_df[['passenger_count']].astype('str'))], axis=1)\n",
    "try:\n",
    "    df1.drop(['id','vendor_id','pickup_datetime','dropoff_datetime','store_and_fwd_flag','passenger_count'], axis=1, inplace=True)\n",
    "except KeyError:\n",
    "    pass\n",
    "\n",
    "df1.head()"
   ]
  },
  {
   "cell_type": "code",
   "execution_count": 70,
   "id": "4b6effdb",
   "metadata": {},
   "outputs": [],
   "source": [
    "x = df1.drop([\"trip_duration_hour\"],axis = 1)\n",
    "y = df1[\"trip_duration_hour\"]"
   ]
  },
  {
   "cell_type": "code",
   "execution_count": 71,
   "id": "58df7c1f",
   "metadata": {},
   "outputs": [
    {
     "data": {
      "text/plain": [
       "(100000,)"
      ]
     },
     "execution_count": 71,
     "metadata": {},
     "output_type": "execute_result"
    }
   ],
   "source": [
    "y.shape"
   ]
  },
  {
   "cell_type": "code",
   "execution_count": 72,
   "id": "63fbbd1f",
   "metadata": {},
   "outputs": [],
   "source": [
    "from sklearn.model_selection import train_test_split\n",
    "train_x,test_x,train_y,test_y = train_test_split(x,y,random_state=56)"
   ]
  },
  {
   "cell_type": "code",
   "execution_count": 73,
   "id": "6c7475c8",
   "metadata": {},
   "outputs": [],
   "source": [
    "# Decision Tree model"
   ]
  },
  {
   "cell_type": "code",
   "execution_count": 74,
   "id": "60bcd6a6",
   "metadata": {},
   "outputs": [
    {
     "data": {
      "text/plain": [
       "DecisionTreeRegressor()"
      ]
     },
     "execution_count": 74,
     "metadata": {},
     "output_type": "execute_result"
    }
   ],
   "source": [
    "from sklearn.tree import DecisionTreeRegressor as DecisionTreeRegressor\n",
    "from sklearn.metrics import mean_squared_error as mse\n",
    "regressor = DecisionTreeRegressor()\n",
    "regressor.fit(x, y)"
   ]
  },
  {
   "cell_type": "code",
   "execution_count": 77,
   "id": "dc484d0d",
   "metadata": {},
   "outputs": [
    {
     "name": "stdout",
     "output_type": "stream",
     "text": [
      "training rmse  6.0350911428809984e-05\n"
     ]
    }
   ],
   "source": [
    "from math import sqrt\n",
    "train_predict = regressor.predict(train_x)\n",
    "k = sqrt(mse(train_predict,train_y))\n",
    "print(\"training rmse \",k)"
   ]
  },
  {
   "cell_type": "code",
   "execution_count": 76,
   "id": "b5037ebf",
   "metadata": {},
   "outputs": [
    {
     "name": "stdout",
     "output_type": "stream",
     "text": [
      "testing rmse  0.00010453084487778811\n"
     ]
    }
   ],
   "source": [
    "from math import sqrt\n",
    "test_predict = regressor.predict(test_x)\n",
    "k1 = sqrt(mse(test_predict,test_y))\n",
    "print(\"testing rmse \",k1)"
   ]
  },
  {
   "cell_type": "code",
   "execution_count": 78,
   "id": "f0c44729",
   "metadata": {},
   "outputs": [],
   "source": [
    "# To interpret the variable importance."
   ]
  },
  {
   "cell_type": "code",
   "execution_count": 79,
   "id": "536cc094",
   "metadata": {},
   "outputs": [
    {
     "data": {
      "text/plain": [
       "Index(['pickup_longitude', 'pickup_latitude', 'dropoff_longitude',\n",
       "       'dropoff_latitude', 'passenger_count_1', 'passenger_count_2',\n",
       "       'passenger_count_3', 'passenger_count_4', 'passenger_count_5',\n",
       "       'passenger_count_6'],\n",
       "      dtype='object')"
      ]
     },
     "execution_count": 79,
     "metadata": {},
     "output_type": "execute_result"
    }
   ],
   "source": [
    "x.columns"
   ]
  },
  {
   "cell_type": "code",
   "execution_count": 80,
   "id": "2b9b5375",
   "metadata": {},
   "outputs": [
    {
     "name": "stdout",
     "output_type": "stream",
     "text": [
      "Collecting xgboost\n",
      "  Downloading xgboost-1.7.2-py3-none-win_amd64.whl (89.1 MB)\n",
      "     ---------------------------------------- 89.1/89.1 MB 5.0 MB/s eta 0:00:00\n",
      "Requirement already satisfied: scipy in c:\\users\\dell\\anaconda3\\lib\\site-packages (from xgboost) (1.9.1)\n",
      "Requirement already satisfied: numpy in c:\\users\\dell\\anaconda3\\lib\\site-packages (from xgboost) (1.21.5)\n",
      "Installing collected packages: xgboost\n",
      "Successfully installed xgboost-1.7.2\n",
      "Note: you may need to restart the kernel to use updated packages.\n"
     ]
    }
   ],
   "source": [
    "pip install xgboost"
   ]
  },
  {
   "cell_type": "code",
   "execution_count": 81,
   "id": "681f6797",
   "metadata": {},
   "outputs": [
    {
     "data": {
      "image/png": "[encoded data removed]",
      "text/plain": [
       "<Figure size 640x480 with 1 Axes>"
      ]
     },
     "metadata": {},
     "output_type": "display_data"
    }
   ],
   "source": [
    "#Using XGBoost in order to interpret the variable importance\n",
    "from xgboost import XGBRegressor\n",
    "from xgboost import plot_importance\n",
    "import matplotlib.pyplot as plt\n",
    "model = XGBRegressor()\n",
    "model.fit(x,y)\n",
    "plot_importance(model)\n",
    "plt.show()"
   ]
  },
  {
   "cell_type": "code",
   "execution_count": 82,
   "id": "9bda001c",
   "metadata": {},
   "outputs": [],
   "source": [
    "#From the above graph we can draw an insight that the varaible \"dropoff_latitude\" has more impact on the trip duration variable followed by \"pickup_longitude\" then \"pickup_latitude\""
   ]
  },
  {
   "cell_type": "code",
   "execution_count": 83,
   "id": "6efe48e9",
   "metadata": {},
   "outputs": [
    {
     "data": {
      "text/plain": [
       "99.9999994085136"
      ]
     },
     "execution_count": 83,
     "metadata": {},
     "output_type": "execute_result"
    }
   ],
   "source": [
    "#calculating the train score of decision tree model\n",
    "decision_train_score = regressor.score(train_x,train_y)\n",
    "decision_train_score*100"
   ]
  },
  {
   "cell_type": "code",
   "execution_count": 84,
   "id": "d0a10983",
   "metadata": {},
   "outputs": [
    {
     "data": {
      "text/plain": [
       "99.99999871531895"
      ]
     },
     "execution_count": 84,
     "metadata": {},
     "output_type": "execute_result"
    }
   ],
   "source": [
    "#calculating the test score of decision tree model\n",
    "decision_test_score = regressor.score(test_x,test_y)\n",
    "decision_test_score*100"
   ]
  },
  {
   "cell_type": "code",
   "execution_count": 85,
   "id": "3d663efb",
   "metadata": {},
   "outputs": [
    {
     "name": "stdout",
     "output_type": "stream",
     "text": [
      "Stored 'decision_test_score' (float64)\n"
     ]
    }
   ],
   "source": [
    "#storing the test score to use it in other file\n",
    "%store decision_test_score"
   ]
  },
  {
   "cell_type": "code",
   "execution_count": 86,
   "id": "088c54fa",
   "metadata": {},
   "outputs": [
    {
     "name": "stdout",
     "output_type": "stream",
     "text": [
      "Stored 'decision_train_score' (float64)\n"
     ]
    }
   ],
   "source": [
    "#storing the train score to use it in other file\n",
    "%store decision_train_score"
   ]
  },
  {
   "cell_type": "code",
   "execution_count": 87,
   "id": "3ba36354",
   "metadata": {},
   "outputs": [],
   "source": [
    "# Conclusions\n",
    "\n",
    "#1.The training RMSE of decision model is  0.000060350911428809984. Where as the testing RMSE is 0.00010453084487778811. They are almost equal so its the best fit\n",
    "\n",
    "#2.The train score and test score is 99.99 so we can consider that decision tree is the best model for predicting the trip duration variable.\n"
   ]
  },
  {
   "cell_type": "code",
   "execution_count": 88,
   "id": "9f582d35",
   "metadata": {},
   "outputs": [],
   "source": [
    "# BAR plot"
   ]
  },
  {
   "cell_type": "code",
   "execution_count": 89,
   "id": "3e4335c0",
   "metadata": {},
   "outputs": [
    {
     "data": {
      "text/plain": [
       "(0.999999994085136, 0.00974192740138502, 0.2398916565151411)"
      ]
     },
     "execution_count": 89,
     "metadata": {},
     "output_type": "execute_result"
    }
   ],
   "source": [
    "decision_train_score,linear_train_score,knn_train_score"
   ]
  },
  {
   "cell_type": "code",
   "execution_count": 90,
   "id": "766faf9b",
   "metadata": {},
   "outputs": [],
   "source": [
    "#assining the train score values in x,y\n",
    "x=[\"decision_train_score\",\"linear_train_score\",\"knn_train_score\"]\n",
    "y=[0.9999996442282492, 0.005868613774166032, 0.22451293627095015]"
   ]
  },
  {
   "cell_type": "code",
   "execution_count": 91,
   "id": "d20769f2",
   "metadata": {},
   "outputs": [
    {
     "data": {
      "text/plain": [
       "(-0.0835579351764113, -0.0017468233800463917, 0.9999999871531895)"
      ]
     },
     "execution_count": 91,
     "metadata": {},
     "output_type": "execute_result"
    }
   ],
   "source": [
    "knn_test_score, linear_test_score,decision_test_score"
   ]
  },
  {
   "cell_type": "code",
   "execution_count": 92,
   "id": "670016c0",
   "metadata": {},
   "outputs": [
    {
     "data": {
      "image/png": "[encoded data removed]",
      "text/plain": [
       "<Figure size 640x480 with 1 Axes>"
      ]
     },
     "metadata": {},
     "output_type": "display_data"
    }
   ],
   "source": [
    "plt.figure(dpi=100)\n",
    "plt.bar(x,y)\n",
    "plt.xlabel(\"models\")\n",
    "plt.ylabel(\"train scores\")\n",
    "plt.show()"
   ]
  },
  {
   "cell_type": "code",
   "execution_count": 93,
   "id": "ccb03283",
   "metadata": {},
   "outputs": [],
   "source": [
    "#assining the test score value in x1,y1\n",
    "x1=[\"knn_test_score\",\"linear_test_score\",\"decision_test_score\"]\n",
    "y1=[-0.16425004050105008,0.00719197085905432,0.9999989502319949]"
   ]
  },
  {
   "cell_type": "code",
   "execution_count": 94,
   "id": "dcee9587",
   "metadata": {},
   "outputs": [
    {
     "data": {
      "image/png": "[encoded data removed]",
      "text/plain": [
       "<Figure size 640x480 with 1 Axes>"
      ]
     },
     "metadata": {},
     "output_type": "display_data"
    }
   ],
   "source": [
    "plt.figure(dpi=100)\n",
    "plt.bar(x1,y1)\n",
    "plt.xlabel(\"models\")\n",
    "plt.ylabel(\"train scores\")\n",
    "plt.show()"
   ]
  },
  {
   "cell_type": "code",
   "execution_count": 95,
   "id": "d480903c",
   "metadata": {},
   "outputs": [],
   "source": [
    "# from above graph we can see that the best model among KNN LR and DT(decision tree) the best one is DT in train score"
   ]
  },
  {
   "cell_type": "code",
   "execution_count": null,
   "id": "cf3780e2",
   "metadata": {},
   "outputs": [],
   "source": []
  }
 ],
 "metadata": {
  "kernelspec": {
   "display_name": "Python 3 (ipykernel)",
   "language": "python",
   "name": "python3"
  },
  "language_info": {
   "codemirror_mode": {
    "name": "ipython",
    "version": 3
   },
   "file_extension": ".py",
   "mimetype": "text/x-python",
   "name": "python",
   "nbconvert_exporter": "python",
   "pygments_lexer": "ipython3",
   "version": "3.9.13"
  }
 },
 "nbformat": 4,
 "nbformat_minor": 5
}
